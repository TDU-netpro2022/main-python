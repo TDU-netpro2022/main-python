{
  "nbformat": 4,
  "nbformat_minor": 0,
  "metadata": {
    "colab": {
      "name": "python_basic.ipynb",
      "provenance": []
    },
    "kernelspec": {
      "name": "python3",
      "display_name": "Python 3"
    },
    "language_info": {
      "name": "python"
    }
  },
  "cells": [
    {
      "cell_type": "markdown",
      "source": [
        "## 基本・演算\n",
        "\n",
        "### 標準出力\n",
        "\n",
        "print 関数を使います。"
      ],
      "metadata": {
        "id": "EQbnRUj7l8WS"
      }
    },
    {
      "cell_type": "code",
      "source": [
        "print('Hello world')"
      ],
      "metadata": {
        "id": "VXbW-VNZisiJ"
      },
      "execution_count": null,
      "outputs": []
    },
    {
      "cell_type": "markdown",
      "source": [
        "変数, 四則演算"
      ],
      "metadata": {
        "id": "E6DXTPLrlnOt"
      }
    },
    {
      "cell_type": "code",
      "execution_count": 32,
      "metadata": {
        "colab": {
          "base_uri": "https://localhost:8080/"
        },
        "id": "JfuGQ1lDifoJ",
        "outputId": "77ea42ee-6e2d-478c-c210-39434276c9b9"
      },
      "outputs": [
        {
          "output_type": "stream",
          "name": "stdout",
          "text": [
            "3\n",
            "4\n",
            "2\n",
            "6\n",
            "9\n",
            "7.5\n"
          ]
        }
      ],
      "source": [
        "x = 3\n",
        "y = 4.5\n",
        "print(x)\n",
        "\n",
        "print(x + 1)  # 加算\n",
        "print(x - 1)  # 減算\n",
        "print(x * 2)  # 乗算\n",
        "print(x ** 2)  # べき乗 x^2\n",
        "print(x + y)"
      ]
    },
    {
      "cell_type": "markdown",
      "source": [
        "Type（型）を見てみよう\n"
      ],
      "metadata": {
        "id": "DdhwsKZ0mQ6_"
      }
    },
    {
      "cell_type": "code",
      "source": [
        "print(type(x))\n",
        "print(type(y))"
      ],
      "metadata": {
        "colab": {
          "base_uri": "https://localhost:8080/"
        },
        "id": "x9HOVe9-ippf",
        "outputId": "537859d6-65e6-4da2-f84c-2bff85098a44"
      },
      "execution_count": 56,
      "outputs": [
        {
          "output_type": "stream",
          "name": "stdout",
          "text": [
            "<class 'str'>\n",
            "<class 'float'>\n"
          ]
        }
      ]
    },
    {
      "cell_type": "markdown",
      "source": [
        "| key       | 説明                   |\n",
        "| --------- | ---------------------- |\n",
        "| bool      | 真偽値型               |\n",
        "| int       | 整数型                 |\n",
        "| float     | 小数型                 |\n",
        "| complex   | 複素数型               |\n",
        "| list      | list 型                |\n",
        "| tuple     | タプル型               |\n",
        "| range     | range 型               |\n",
        "| str       | 文字列型               |\n",
        "| bytes     | バイト型               |\n",
        "| set       | 集合型                 |\n",
        "| frozenset | イミュータブルな集合型 |\n",
        "| dict      | 辞書型                 |\n"
      ],
      "metadata": {
        "id": "ORv3-t3ZtnDH"
      }
    },
    {
      "cell_type": "markdown",
      "source": [
        "### bool, 論理演算\n",
        "\n",
        "`&&` `||` の代わりに `and` `or` を使います。"
      ],
      "metadata": {
        "id": "vi9dEjQ0mZQ3"
      }
    },
    {
      "cell_type": "code",
      "source": [
        "t = True\n",
        "f = False\n",
        "x = t\n",
        "print(type(x))\n",
        "print(type(t))  # => \"<type 'bool'>\"\n",
        "print(t and f)  # 論理積; \"False\"\n",
        "print(t or f)  # 論理和; \"True\"\n",
        "print(not t)  # 否定; \"False\"\n",
        "print(t ^ f)  # 排他的論理和; \"True\""
      ],
      "metadata": {
        "colab": {
          "base_uri": "https://localhost:8080/"
        },
        "id": "vHcpH3A1mZD-",
        "outputId": "88fe2eaa-9de5-441e-bd0b-a4bedf98f021"
      },
      "execution_count": 59,
      "outputs": [
        {
          "output_type": "stream",
          "name": "stdout",
          "text": [
            "<class 'bool'>\n",
            "<class 'bool'>\n",
            "False\n",
            "True\n",
            "False\n",
            "True\n"
          ]
        }
      ]
    },
    {
      "cell_type": "code",
      "source": [
        "print(1 == 1)\n",
        "print(1.0 == 1)\n",
        "print(1.1 == 1.1)\n",
        "\n",
        "print(1 != 1)\n",
        "print(1 == 0)"
      ],
      "metadata": {
        "colab": {
          "base_uri": "https://localhost:8080/"
        },
        "id": "hNyWvm6VmkG5",
        "outputId": "0a2e2a0d-b9ed-412b-98fa-f60657e8713e"
      },
      "execution_count": 60,
      "outputs": [
        {
          "output_type": "stream",
          "name": "stdout",
          "text": [
            "True\n",
            "True\n",
            "True\n",
            "False\n",
            "False\n"
          ]
        }
      ]
    },
    {
      "cell_type": "markdown",
      "source": [
        "## 文字列処理"
      ],
      "metadata": {
        "id": "6JzgZ0NHnKYU"
      }
    },
    {
      "cell_type": "code",
      "source": [
        "hel = 'hello'  # シングルクォートか、\n",
        "wor = \"world\"  # ダブルクォートで文字列を表す\n",
        "print(hel)  # => \"hello\"\n",
        "print(wor)\n",
        "\n",
        "print(len(hel))  # 文字列の長さ;=> \"5\"\n",
        "hw = hel + ' ' + wor  # 文字列の結合\n",
        "print(hw)  # => \"hello world\""
      ],
      "metadata": {
        "colab": {
          "base_uri": "https://localhost:8080/"
        },
        "id": "zJZbfI6hmmK4",
        "outputId": "579d1dfe-ad28-4998-f353-f77976b7f7de"
      },
      "execution_count": 24,
      "outputs": [
        {
          "output_type": "stream",
          "name": "stdout",
          "text": [
            "hello\n",
            "world\n",
            "5\n",
            "hello world\n"
          ]
        }
      ]
    },
    {
      "cell_type": "code",
      "source": [
        "# 文字列の埋め込み\n",
        "hwl2 = f'{hel}, {wor} {4 - 2}'\n",
        "print(hwl2)\n",
        "print(f'The {wor}!')"
      ],
      "metadata": {
        "colab": {
          "base_uri": "https://localhost:8080/"
        },
        "id": "_wbpTN7dnKNo",
        "outputId": "4405f424-b120-47b5-bc22-2c4850786f65"
      },
      "execution_count": 37,
      "outputs": [
        {
          "output_type": "stream",
          "name": "stdout",
          "text": [
            "hello, world 2\n",
            "The world!\n"
          ]
        }
      ]
    },
    {
      "cell_type": "code",
      "source": [
        "nihongo = u'日本語' # 明示的にUnicode型を作るにはuをつける\n",
        "print(nihongo)  # => '日本語'"
      ],
      "metadata": {
        "colab": {
          "base_uri": "https://localhost:8080/"
        },
        "id": "olodBM0noiTz",
        "outputId": "ab103dfd-24a1-4f61-d783-31f426ef71cd"
      },
      "execution_count": 31,
      "outputs": [
        {
          "output_type": "stream",
          "name": "stdout",
          "text": [
            "日本語\n"
          ]
        }
      ]
    },
    {
      "cell_type": "markdown",
      "source": [
        "Python 特有の仕様1"
      ],
      "metadata": {
        "id": "COs_nRlMnUmx"
      }
    },
    {
      "cell_type": "code",
      "source": [
        "# 虚数\n",
        "print((3 + 2j) - (6 + 4j))"
      ],
      "metadata": {
        "colab": {
          "base_uri": "https://localhost:8080/"
        },
        "id": "md1gd-Seoi95",
        "outputId": "5f48f6ab-a5bf-4451-8b31-3026735011e9"
      },
      "execution_count": 33,
      "outputs": [
        {
          "output_type": "stream",
          "name": "stdout",
          "text": [
            "(-3-2j)\n"
          ]
        }
      ]
    },
    {
      "cell_type": "code",
      "source": [
        "# format operator\n",
        "print('%s %s %d' % (hel, 'world', 3))"
      ],
      "metadata": {
        "colab": {
          "base_uri": "https://localhost:8080/"
        },
        "id": "VdrdoHEvp1fk",
        "outputId": "81dc813c-6887-4125-b72e-a5412e574bd1"
      },
      "execution_count": 35,
      "outputs": [
        {
          "output_type": "stream",
          "name": "stdout",
          "text": [
            "hello world 3\n"
          ]
        }
      ]
    },
    {
      "cell_type": "code",
      "source": [
        "# 文字列の繰り返し\n",
        "print('オラ' * 20)"
      ],
      "metadata": {
        "colab": {
          "base_uri": "https://localhost:8080/"
        },
        "id": "IMrb0nvgqJc2",
        "outputId": "d4097659-86e5-40e2-bf9a-1f8271d14883"
      },
      "execution_count": 40,
      "outputs": [
        {
          "output_type": "stream",
          "name": "stdout",
          "text": [
            "オラオラオラオラオラオラオラオラオラオラオラオラオラオラオラオラオラオラオラオラ\n"
          ]
        }
      ]
    },
    {
      "cell_type": "markdown",
      "source": [
        "文字列操作"
      ],
      "metadata": {
        "id": "Sg9AhB8Pqh31"
      }
    },
    {
      "cell_type": "code",
      "source": [
        "s = \"hello\"\n",
        "print(s.capitalize())  #=> \"Hello\"\n",
        "print(s.upper())       #=> \"HELLO\"\n",
        "print(s.upper().lower())       #=> \"HELLO\"->\"hello\""
      ],
      "metadata": {
        "colab": {
          "base_uri": "https://localhost:8080/"
        },
        "id": "-xeyiDCAqYD3",
        "outputId": "552a6d1b-59d1-42cb-ebdc-c23588eccdb1"
      },
      "execution_count": 41,
      "outputs": [
        {
          "output_type": "stream",
          "name": "stdout",
          "text": [
            "Hello\n",
            "HELLO\n",
            "hello\n"
          ]
        }
      ]
    },
    {
      "cell_type": "code",
      "source": [
        "print(s.rjust(7))      # 右寄せ;=> \"  hello\"\n",
        "print(s.center(7))     # 中央寄せ;=> \" hello \""
      ],
      "metadata": {
        "colab": {
          "base_uri": "https://localhost:8080/"
        },
        "id": "R2XrpoEjqrmy",
        "outputId": "7d71b9f6-1d4f-4ba9-c9b1-fce85f222e57"
      },
      "execution_count": 42,
      "outputs": [
        {
          "output_type": "stream",
          "name": "stdout",
          "text": [
            "  hello\n",
            " hello \n"
          ]
        }
      ]
    },
    {
      "cell_type": "code",
      "source": [
        "print(s.replace('l', '(ell)'))  # 部分文字列の置換;=> \"he(ell)(ell)o\"\n",
        "# ３つだけ文字列を入れ替える\n",
        "b = \"aaaaaaaaaaaaaaaa\"\n",
        "c = b.replace(\"a\", \"love\", 3)\n",
        "print(c)\n",
        "\n",
        "print('  world '.strip())  # 空白の削除;=> \"world\"\n",
        "\n",
        "# 文字列の長さを取得\n",
        "moji = \"python面白いね\"\n",
        "print(len(moji))"
      ],
      "metadata": {
        "colab": {
          "base_uri": "https://localhost:8080/"
        },
        "id": "mqddfkZzqs6t",
        "outputId": "8121093c-4461-4158-e168-786207de8ab6"
      },
      "execution_count": 44,
      "outputs": [
        {
          "output_type": "stream",
          "name": "stdout",
          "text": [
            "he(ell)(ell)o\n",
            "loveloveloveaaaaaaaaaaaaa\n",
            "world\n",
            "10\n"
          ]
        }
      ]
    },
    {
      "cell_type": "markdown",
      "source": [
        "### 複数行文字列(ヒアドキュメント)"
      ],
      "metadata": {
        "id": "Ew1IePSKrYHt"
      }
    },
    {
      "cell_type": "code",
      "source": [
        "moji = \"\"\"\n",
        "明日は何しようか。\n",
        "pythonの勉強をしよう\"\"\"\n",
        "print(moji)\n",
        "\n",
        "\n",
        "# .formatの便利な使い方{0} に 変数1の値 、{1} に変数２の値 が割り当てられます。\n",
        "sokudo = 30  # [km/h]\n",
        "kyori = 120  # [km]\n",
        "zikan = kyori / sokudo\n",
        "ans = \"{0}[km/h]で、{1}[km]を走るとすると、{2}[h]かかります。\".format(sokudo, kyori, zikan)\n",
        "print(ans)\n",
        "\n",
        "# 入力させる \n",
        "tate = float(input(\"縦の長さは何[cm]?\"))\n",
        "\n",
        "yoko = float(input(\"横の長さは何[cm]?\"))\n",
        "s = tate * yoko\n",
        "print(\"面積 s =\" + str(s) + \"[cm^2]です\")\n",
        "\n",
        "# 上記プログラムをmenseki.pyと保存してpythn3 mesenki.pyの実行できます。"
      ],
      "metadata": {
        "colab": {
          "base_uri": "https://localhost:8080/"
        },
        "id": "rYyogn5vqz5P",
        "outputId": "e1bbf3b8-760c-4297-eda4-1b415c2f676f"
      },
      "execution_count": 45,
      "outputs": [
        {
          "output_type": "stream",
          "name": "stdout",
          "text": [
            "\n",
            "明日は何しようか。\n",
            "pythonの勉強をしよう\n",
            "30[km/h]で、120[km]を走るとすると、4.0[h]かかります。\n",
            "縦の長さは何[cm]?10\n",
            "横の長さは何[cm]?20\n",
            "面積 s =200.0[cm^2]です\n"
          ]
        }
      ]
    },
    {
      "cell_type": "markdown",
      "source": [
        "## リスト"
      ],
      "metadata": {
        "id": "kzcEf6YyrlA_"
      }
    },
    {
      "cell_type": "code",
      "source": [
        "xs = [3, 1, 2]   # リスト作成\n",
        "print(xs, xs[2])  #=> \"[3, 1, 2] 2\"\n",
        "print(xs[-1])     # 負のインデックス値は後ろから数えます;=> \"2\"\n",
        "\n",
        "xs[2] = 'foo'    # リストには複数のデータ型を混ぜられます\n",
        "print(xs)         #=> \"[3, 1, 'foo']\"\n",
        "xs.append('bar') # データを後ろに追加します\n",
        "print(xs)         #=> \"[3, 1, 'foo', 'bar']\"\n",
        "\n",
        "x = xs.pop()     # データを後ろから取り除きます\n",
        "print(x, xs)      #=> \"bar [3, 1, 'foo']\""
      ],
      "metadata": {
        "colab": {
          "base_uri": "https://localhost:8080/"
        },
        "id": "JZDd90dHrk0g",
        "outputId": "1ccb41f9-fa70-4854-a8d8-df9a90f7b4af"
      },
      "execution_count": 46,
      "outputs": [
        {
          "output_type": "stream",
          "name": "stdout",
          "text": [
            "[3, 1, 2] 2\n",
            "2\n",
            "[3, 1, 'foo']\n",
            "[3, 1, 'foo', 'bar']\n",
            "bar [3, 1, 'foo']\n"
          ]
        }
      ]
    },
    {
      "cell_type": "markdown",
      "source": [
        "### range とスライス"
      ],
      "metadata": {
        "id": "PH1vw_WosDEg"
      }
    },
    {
      "cell_type": "code",
      "source": [
        "nums = range(5)  # rangeは整数範囲を作成する組み込み型関数です\n",
        "\n",
        "range(5, 10) # start, end(含まない)\n",
        "# 5, 6, 7, 8, 9\n",
        "\n",
        "range(0, 10, 3) # start, end, step\n",
        "# 0, 3, 6, 9\n",
        "\n",
        "range(-10, -100, -30)\n",
        "# -10, -40, -70\n",
        "\n",
        "range(1,5,1)\n",
        "\n",
        "print(range(3))\n",
        "print(list(range(3)))"
      ],
      "metadata": {
        "colab": {
          "base_uri": "https://localhost:8080/"
        },
        "id": "WoOB71MnsC4P",
        "outputId": "99a93ea4-2102-4169-b406-4646fa75d118"
      },
      "execution_count": 53,
      "outputs": [
        {
          "output_type": "stream",
          "name": "stdout",
          "text": [
            "range(0, 3)\n",
            "[0, 1, 2]\n"
          ]
        }
      ]
    },
    {
      "cell_type": "code",
      "source": [
        "nums = list(range(5))\n",
        "# nums = [0, 1, 2, 3, 4] と等価\n",
        "\n",
        "print(nums)  # => \"[0, 1, 2, 3, 4]\"\n",
        "print(nums[2:4])  # インデックス2以上4未満;=> \"[2, 3]\"\n",
        "print(nums[2:])  # インデックス2以上最後まで;=> \"[2, 3, 4]\"\n",
        "print(nums[:2])  # 最初から2未満;=> \"[0, 1]\"\n",
        "print(nums[:])  # 全要素;=> [\"0, 1, 2, 3, 4]\"\n",
        "print(nums[:-1])  # 負のインデックスも可能;=> [\"0, 1, 2, 3]\""
      ],
      "metadata": {
        "colab": {
          "base_uri": "https://localhost:8080/"
        },
        "id": "uLIBeBFUrCTt",
        "outputId": "5f76269b-78ce-4b97-9a41-975767a6dd01"
      },
      "execution_count": 54,
      "outputs": [
        {
          "output_type": "stream",
          "name": "stdout",
          "text": [
            "[0, 1, 2, 3, 4]\n",
            "[2, 3]\n",
            "[2, 3, 4]\n",
            "[0, 1]\n",
            "[0, 1, 2, 3, 4]\n",
            "[0, 1, 2, 3]\n"
          ]
        }
      ]
    },
    {
      "cell_type": "code",
      "source": [
        "moji = \"ABCDEF\"\n",
        "print(moji[::2])  # 2 刻みで全て抽出\n",
        "# 'ACE'\n",
        "\n",
        "# indexを使おう\n",
        "a = [\"a\", \"b\", \"c\", \"d\"]\n",
        "print(a.index(\"b\"))  # 1\n",
        "print(a.index(\"d\"))  # 3"
      ],
      "metadata": {
        "colab": {
          "base_uri": "https://localhost:8080/"
        },
        "id": "A9ctWKWUszsi",
        "outputId": "f07ab557-94dd-4882-c94f-08863bd04c40"
      },
      "execution_count": 61,
      "outputs": [
        {
          "output_type": "stream",
          "name": "stdout",
          "text": [
            "ACE\n",
            "1\n",
            "3\n"
          ]
        }
      ]
    },
    {
      "cell_type": "code",
      "source": [
        "# リストに値が存在するかどうか\n",
        "a = [\"a\", \"b\", \"c\", \"d\"]\n",
        "print(\"b\" in a)  # True\n",
        "print(\"f\" in a)  # False\n",
        "\n",
        "# 個数をカウント使用\n",
        "a = [\"a\", \"b\", \"c\", \"c\", \"b\"]\n",
        "print(a.count(\"c\"))  # 2\n",
        "print(a.count(\"g\"))  # 0"
      ],
      "metadata": {
        "colab": {
          "base_uri": "https://localhost:8080/"
        },
        "id": "HFnl98_LukQO",
        "outputId": "28693106-3631-4322-ffae-43c55b0afa96"
      },
      "execution_count": 62,
      "outputs": [
        {
          "output_type": "stream",
          "name": "stdout",
          "text": [
            "True\n",
            "False\n",
            "2\n",
            "0\n"
          ]
        }
      ]
    },
    {
      "cell_type": "code",
      "source": [
        "# ソートする\n",
        "a = [5, 2, 4, 3, 0, 1]\n",
        "s = sorted(a)\n",
        "print(s)  # [0, 1, 2, 3, 4, 5]\n",
        "a = [\"b\", \"g\", \"a\", \"d\"]\n",
        "s = sorted(a)\n",
        "print(s)  # ['a', 'b', 'd', 'g']\n",
        "\n",
        "\n",
        "# 降順ソート\n",
        "a = [5, 2, 4, 3, 0, 1]\n",
        "a.sort(reverse=True)\n",
        "print(a)  # [5, 4, 3, 2, 1, 0]"
      ],
      "metadata": {
        "colab": {
          "base_uri": "https://localhost:8080/"
        },
        "id": "9px7uvZ-unRQ",
        "outputId": "bcf81cae-e5fb-4ca0-aa87-f4915e1e006a"
      },
      "execution_count": 66,
      "outputs": [
        {
          "output_type": "stream",
          "name": "stdout",
          "text": [
            "[0, 1, 2, 3, 4, 5]\n",
            "['a', 'b', 'd', 'g']\n",
            "[5, 4, 3, 2, 1, 0]\n"
          ]
        }
      ]
    },
    {
      "cell_type": "code",
      "source": [
        "# タプルをリストへ変換\n",
        "a = (\"takasi\", \"jun\", \"tomoki\")\n",
        "print(list(a))  # ['takasi', 'jun', 'tomoki']\n",
        "print(list((1, 2, 3, 4, 5)))  # [1, 2, 3, 4, 5]\n",
        "\n",
        "# タプルアンパック\n",
        "d = (\"python\", \"Java\", \"c\")\n",
        "a, b, c = d\n",
        "print(a)  # python\n",
        "print(b)  # Java\n",
        "print(c)  # c"
      ],
      "metadata": {
        "colab": {
          "base_uri": "https://localhost:8080/"
        },
        "id": "ggRJ5dY-uox2",
        "outputId": "be3733d0-fb41-4840-e7e3-40f25b674b71"
      },
      "execution_count": 67,
      "outputs": [
        {
          "output_type": "stream",
          "name": "stdout",
          "text": [
            "['takasi', 'jun', 'tomoki']\n",
            "[1, 2, 3, 4, 5]\n",
            "python\n",
            "Java\n",
            "c\n"
          ]
        }
      ]
    },
    {
      "cell_type": "code",
      "source": [
        "r, g, b = [255 ,80, 3]\n",
        "print(r)\n",
        "r, g, b = (255 ,80, 3)\n",
        "print(g)"
      ],
      "metadata": {
        "colab": {
          "base_uri": "https://localhost:8080/"
        },
        "id": "rNAAJuByuvFK",
        "outputId": "6cb36d00-1881-4221-eafb-19d4ae273062"
      },
      "execution_count": 70,
      "outputs": [
        {
          "output_type": "stream",
          "name": "stdout",
          "text": [
            "255\n",
            "80\n"
          ]
        }
      ]
    },
    {
      "cell_type": "markdown",
      "source": [
        "## 条件分岐 if, ループ for\n",
        "\n",
        "Python ではブロックをインデントによって表します\n",
        "\n",
        "```\n",
        "for 変数 in データの集まり:\n",
        "    処理\n",
        "```\n",
        "\n",
        "```\n",
        "if 条件:\n",
        "    処理A\n",
        "    処理B\n",
        "処理C\n",
        "```"
      ],
      "metadata": {
        "id": "txJL4LFDvKDx"
      }
    },
    {
      "cell_type": "code",
      "source": [
        "animals = ['cat', 'dog', 'monkey']\n",
        "for animal in animals:\n",
        "    print(animal)\n",
        "\n",
        "for char in 'Hello':\n",
        "    print(char)\n"
      ],
      "metadata": {
        "colab": {
          "base_uri": "https://localhost:8080/"
        },
        "id": "T6FjsAPLu2mm",
        "outputId": "94fd7cff-7481-4f01-eb96-541a696e3337"
      },
      "execution_count": 72,
      "outputs": [
        {
          "output_type": "stream",
          "name": "stdout",
          "text": [
            "cat\n",
            "dog\n",
            "monkey\n",
            "H\n",
            "e\n",
            "l\n",
            "l\n",
            "o\n"
          ]
        }
      ]
    },
    {
      "cell_type": "code",
      "source": [
        "for i in range(5):\n",
        "    print(i)"
      ],
      "metadata": {
        "colab": {
          "base_uri": "https://localhost:8080/"
        },
        "id": "qjEupU2Zvc65",
        "outputId": "57c152e2-83b0-4a88-e401-dde21a9143ff"
      },
      "execution_count": 73,
      "outputs": [
        {
          "output_type": "stream",
          "name": "stdout",
          "text": [
            "0\n",
            "1\n",
            "2\n",
            "3\n",
            "4\n"
          ]
        }
      ]
    },
    {
      "cell_type": "code",
      "source": [
        "for i in range(1, 11):\n",
        "    if i % 3 == 0:\n",
        "        print(i)\n",
        "\n",
        "print()\n",
        "\n",
        "for i in range(3, 11, 3):\n",
        "    print(i)"
      ],
      "metadata": {
        "colab": {
          "base_uri": "https://localhost:8080/"
        },
        "id": "brQJmprCvhdR",
        "outputId": "00e7f6d8-736e-410a-9ca4-c398d2b96238"
      },
      "execution_count": 77,
      "outputs": [
        {
          "output_type": "stream",
          "name": "stdout",
          "text": [
            "3\n",
            "6\n",
            "9\n",
            "\n",
            "3\n",
            "6\n",
            "9\n"
          ]
        }
      ]
    },
    {
      "cell_type": "code",
      "source": [
        "strings = ['ruby', 'python', 'perl', 'java', 'c']\n",
        "for string in strings:\n",
        "    if string == 'python':\n",
        "        print('OK')\n",
        "        break  # 一致したので、breakで抜ける\n",
        "    print(string)"
      ],
      "metadata": {
        "colab": {
          "base_uri": "https://localhost:8080/"
        },
        "id": "0rA_-Bxmvjym",
        "outputId": "6f4b4e2a-b984-4b32-a8f9-9ef78c21eb3d"
      },
      "execution_count": 78,
      "outputs": [
        {
          "output_type": "stream",
          "name": "stdout",
          "text": [
            "ruby\n",
            "OK\n"
          ]
        }
      ]
    },
    {
      "cell_type": "code",
      "source": [
        "# 以下は、テストの点数をまとめたリストがあり、70点以下がなければ「合格」と表示されます。\n",
        "scores = [100, 71, 80, 99, 75]  # 70点以下はないので、合格\n",
        "for score in scores:\n",
        "    if score <= 70:\n",
        "        break\n",
        "    else:\n",
        "        print('合格')\n",
        "\n",
        "\n",
        "index = 1\n",
        "while index <= 5:\n",
        "    print(index)\n",
        "    index += 1\n",
        "print(\"終了\")\n",
        "\n",
        "cnt=0;\n",
        "while cnt < 10 :\n",
        "    print(\"繰り返しております！\")\n",
        "    print(cnt+1)\n",
        "    cnt = cnt + 1"
      ],
      "metadata": {
        "colab": {
          "base_uri": "https://localhost:8080/"
        },
        "id": "VeqXNDFNvzCr",
        "outputId": "1132e7e6-93e6-4bb3-e6b2-b56322079287"
      },
      "execution_count": 79,
      "outputs": [
        {
          "output_type": "stream",
          "name": "stdout",
          "text": [
            "合格\n",
            "合格\n",
            "合格\n",
            "合格\n",
            "合格\n",
            "1\n",
            "2\n",
            "3\n",
            "4\n",
            "5\n",
            "終了\n",
            "繰り返しております！\n",
            "1\n",
            "繰り返しております！\n",
            "2\n",
            "繰り返しております！\n",
            "3\n",
            "繰り返しております！\n",
            "4\n",
            "繰り返しております！\n",
            "5\n",
            "繰り返しております！\n",
            "6\n",
            "繰り返しております！\n",
            "7\n",
            "繰り返しております！\n",
            "8\n",
            "繰り返しております！\n",
            "9\n",
            "繰り返しております！\n",
            "10\n"
          ]
        }
      ]
    },
    {
      "cell_type": "markdown",
      "source": [
        "## 標準入力"
      ],
      "metadata": {
        "id": "cOpvQVMgwFHj"
      }
    },
    {
      "cell_type": "code",
      "source": [
        "# 入力すべき行数を取得\n",
        "print(\"何行入力するか数字をまず入力してください。\")\n",
        "num_lines = int(input())\n",
        "print(\"入力を開始してください。\")\n",
        "\n",
        "# 1行ずつ取り出し\n",
        "for i in range(num_lines):\n",
        "    line = input()\n",
        "    print(i + 1, \"行目:\" + line)"
      ],
      "metadata": {
        "colab": {
          "base_uri": "https://localhost:8080/"
        },
        "id": "FIstYdoJv5_z",
        "outputId": "3401190b-4ec4-4a80-ae23-57d34ebe5ca8"
      },
      "execution_count": 80,
      "outputs": [
        {
          "output_type": "stream",
          "name": "stdout",
          "text": [
            "何行入力するか数字をまず入力してください。\n",
            "3\n",
            "入力を開始してください。\n",
            "hoge\n",
            "1 行目:hoge\n",
            "fuga\n",
            "2 行目:fuga\n",
            "piyo\n",
            "3 行目:piyo\n"
          ]
        }
      ]
    },
    {
      "cell_type": "markdown",
      "source": [
        "## 関数"
      ],
      "metadata": {
        "id": "FxyCRsumwqsj"
      }
    },
    {
      "cell_type": "code",
      "source": [
        "def hello():\n",
        "    print('hello, world')\n",
        "\n",
        "hello()  # hello, world"
      ],
      "metadata": {
        "colab": {
          "base_uri": "https://localhost:8080/"
        },
        "id": "SqVPg065wI2y",
        "outputId": "8f3ff458-b9ca-4a07-dc59-3eaaa9eb6d8a"
      },
      "execution_count": 82,
      "outputs": [
        {
          "output_type": "stream",
          "name": "stdout",
          "text": [
            "hello, world\n"
          ]
        }
      ]
    },
    {
      "cell_type": "markdown",
      "source": [
        ""
      ],
      "metadata": {
        "id": "b9JCf2qnwpe7"
      }
    },
    {
      "cell_type": "code",
      "source": [
        "# 引数付き\n",
        "def greet(to):\n",
        "    print('hello, ' + to)\n",
        "\n",
        "greet('Alice')  # hello, Alice"
      ],
      "metadata": {
        "colab": {
          "base_uri": "https://localhost:8080/"
        },
        "id": "Lx66O2-GwR6y",
        "outputId": "931223cd-2756-4e88-9d21-7209f3f637aa"
      },
      "execution_count": 83,
      "outputs": [
        {
          "output_type": "stream",
          "name": "stdout",
          "text": [
            "hello, Alice\n"
          ]
        }
      ]
    },
    {
      "cell_type": "code",
      "source": [
        "\n",
        "# 足し算 (戻り値を返す)\n",
        "def sum(num1, num2):\n",
        "    return num1 + num2\n",
        "\n",
        "print(sum(3, 4))  # 7\n",
        "# 型が指定されていないので文字列連結にも使えてしまう！\n",
        "print(sum('hoge', 'fuga'))  # hogefuga\n",
        "\n",
        "\n",
        "# 再帰を使ったフィボナッチ数列\n",
        "def fib(n):\n",
        "    if n <= 2:\n",
        "        return 1\n",
        "    return fib(n - 1) + fib(n - 2)\n",
        "\n",
        "print(fib(4)) # 3\n",
        "print(fib(20))"
      ],
      "metadata": {
        "colab": {
          "base_uri": "https://localhost:8080/"
        },
        "id": "3gwK2j23wy1B",
        "outputId": "9adc09d6-8124-4f8a-9db6-00479f899393"
      },
      "execution_count": 84,
      "outputs": [
        {
          "output_type": "stream",
          "name": "stdout",
          "text": [
            "7\n",
            "hogefuga\n",
            "3\n",
            "6765\n"
          ]
        }
      ]
    },
    {
      "cell_type": "markdown",
      "source": [
        "ラムダ式"
      ],
      "metadata": {
        "id": "1YGLTQexw7Lg"
      }
    },
    {
      "cell_type": "code",
      "source": [
        "pairs = [(1, 'one'), (2, 'two'), (3, 'three'), (4, 'four')]\n",
        "\n",
        "pairs.sort(key = lambda pair: pair[0])\n",
        "print(pairs)\n",
        "\n",
        "pairs.sort(key = lambda pair: pair[1])\n",
        "print(pairs)"
      ],
      "metadata": {
        "id": "cxYYzwmBw1La"
      },
      "execution_count": null,
      "outputs": []
    },
    {
      "cell_type": "code",
      "source": [
        "is_odd = lambda n: n % 2 == 1\n",
        "\n",
        "print(list(filter(is_odd, [1, 2, 3, 4, 5])))\n",
        "\n",
        "triple = lambda n: n * 3\n",
        "print(list(map(triple, [1, 2, 3, 4, 5])))"
      ],
      "metadata": {
        "colab": {
          "base_uri": "https://localhost:8080/"
        },
        "id": "T52Vs-0-xFP8",
        "outputId": "5ac3db7c-ab35-47d6-e4b2-65b09b46e60e"
      },
      "execution_count": 88,
      "outputs": [
        {
          "output_type": "stream",
          "name": "stdout",
          "text": [
            "[1, 3, 5]\n",
            "[3, 6, 9, 12, 15]\n"
          ]
        }
      ]
    },
    {
      "cell_type": "markdown",
      "source": [
        ""
      ],
      "metadata": {
        "id": "UyCDSetUxEUs"
      }
    }
  ]
}